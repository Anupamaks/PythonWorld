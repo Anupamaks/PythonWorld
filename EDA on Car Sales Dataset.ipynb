{
 "cells": [
  {
   "cell_type": "markdown",
   "metadata": {},
   "source": [
    "\n",
    "## Table of Contents\n",
    "\n",
    "1. [Problem Statement](#section1)<br>\n",
    "2. [Importing Packages](#section2)<br>\n",
    "3. [Loading Data](#section3)<br>\n",
    "  - 3.1 [Description of the Datasets](#section301)<br>\n",
    "  - 3.2 [Pandas Profiling before Data Preprocessing](#section302)<br>\n",
    "4. [Data Preprocessing](#section4)<br>\n",
    "  - 4.1 [Data Normalization](#section401)<br>\n",
    "  - 4.2 [Pandas Profiling after Data Preprocessing](#section402)<br>\n",
    "5. [Exploratory Data Analysis](#section5)<br>\n",
    "  - 5.1 [**Analysis based on Outlet metrics**](#section501)<br>"
   ]
  },
  {
   "cell_type": "markdown",
   "metadata": {},
   "source": [
    "<a id=section1></a>\n",
    "## 1. Problem Statement\n",
    " \n",
    "This dataset contain data for more than 9.5K car sale in Ukraine. Most of them are uses cars so it opens the possibility to analyze features related to car operation.\n"
   ]
  },
  {
   "cell_type": "markdown",
   "metadata": {},
   "source": [
    "<a id=section2></a>\n",
    "## 2. Importing packages\n",
    "\n",
    "In this step  various packages  needed for profiling and charts is imported/installed."
   ]
  },
  {
   "cell_type": "code",
   "execution_count": 20,
   "metadata": {},
   "outputs": [],
   "source": [
    "import ssl\n",
    "import certifi\n",
    "\n",
    "#urlopen(request, context=ssl.create_default_context(cafile=certifi.where()))"
   ]
  },
  {
   "cell_type": "code",
   "execution_count": 58,
   "metadata": {},
   "outputs": [
    {
     "name": "stderr",
     "output_type": "stream",
     "text": [
      "ERROR: Could not install packages due to an EnvironmentError: Could not find a suitable TLS CA certificate bundle, invalid path: C:/Users/asivaraman/mycert.crt\n",
      "\n"
     ]
    }
   ],
   "source": [
    "import numpy as np                     \n",
    "\n",
    "import pandas as pd\n",
    "pd.set_option('mode.chained_assignment', None)      # To suppress pandas warnings.\n",
    "pd.set_option('display.max_colwidth',None)           # To display all the data in each column\n",
    "pd.options.display.max_columns = 50                 # To display every column of the dataset in head()\n",
    "\n",
    "import warnings\n",
    "warnings.filterwarnings('ignore')      \n",
    "import matplotlib.pyplot as plt\n",
    "%matplotlib inline\n",
    "\n",
    "import seaborn as sns\n",
    "sns.set(style='whitegrid', font_scale=1.3, color_codes=True)      # To apply seaborn styles to the plots.\n",
    "\n",
    "# Install and update plotly using this command to the latest version (higher than version 4.0.0)\n",
    "\n",
    "#!pip install plotly --trusted-host pypi.python.org packagename\n",
    "!pip install --trusted-host https://pypi.org/simple/plotly plotly\n",
    "\n"
   ]
  },
  {
   "cell_type": "code",
   "execution_count": 59,
   "metadata": {},
   "outputs": [
    {
     "name": "stderr",
     "output_type": "stream",
     "text": [
      "ERROR: Could not install packages due to an EnvironmentError: Could not find a suitable TLS CA certificate bundle, invalid path: C:/Users/asivaraman/Anaconda3//lib/site-packages/cacert.pem\n",
      "\n"
     ]
    }
   ],
   "source": [
    "import os\n",
    "os.environ['REQUESTS_CA_BUNDLE']= \"C:/Users/asivaraman/Anaconda3//lib/site-packages/cacert.pem\"\n",
    "!pip  install plotly"
   ]
  },
  {
   "cell_type": "code",
   "execution_count": 56,
   "metadata": {},
   "outputs": [
    {
     "data": {
      "text/plain": [
       "'C:\\\\Users\\\\asivaraman\\\\Anaconda3\\\\lib\\\\site-packages\\\\certifi\\\\cacert.pem'"
      ]
     },
     "execution_count": 56,
     "metadata": {},
     "output_type": "execute_result"
    }
   ],
   "source": [
    "import certifi\n",
    "certifi.where()"
   ]
  },
  {
   "cell_type": "markdown",
   "metadata": {},
   "source": [
    "<a id=section3></a>\n",
    "## 3. Loading the data set\n",
    "\n",
    "Load the dataset using pandas from car sales file and generate the data frame for further analysis.\n",
    "\n",
    "\n"
   ]
  },
  {
   "cell_type": "code",
   "execution_count": 64,
   "metadata": {},
   "outputs": [
    {
     "data": {
      "text/html": [
       "<div>\n",
       "<style scoped>\n",
       "    .dataframe tbody tr th:only-of-type {\n",
       "        vertical-align: middle;\n",
       "    }\n",
       "\n",
       "    .dataframe tbody tr th {\n",
       "        vertical-align: top;\n",
       "    }\n",
       "\n",
       "    .dataframe thead th {\n",
       "        text-align: right;\n",
       "    }\n",
       "</style>\n",
       "<table border=\"1\" class=\"dataframe\">\n",
       "  <thead>\n",
       "    <tr style=\"text-align: right;\">\n",
       "      <th></th>\n",
       "      <th>car</th>\n",
       "      <th>price</th>\n",
       "      <th>body</th>\n",
       "      <th>mileage</th>\n",
       "      <th>engV</th>\n",
       "      <th>engType</th>\n",
       "      <th>registration</th>\n",
       "      <th>year</th>\n",
       "      <th>model</th>\n",
       "      <th>drive</th>\n",
       "    </tr>\n",
       "  </thead>\n",
       "  <tbody>\n",
       "    <tr>\n",
       "      <th>0</th>\n",
       "      <td>Smart</td>\n",
       "      <td>21091.34235</td>\n",
       "      <td>hatch</td>\n",
       "      <td>0</td>\n",
       "      <td>0.9</td>\n",
       "      <td>Petrol</td>\n",
       "      <td>yes</td>\n",
       "      <td>2016</td>\n",
       "      <td>Forfour</td>\n",
       "      <td>rear</td>\n",
       "    </tr>\n",
       "    <tr>\n",
       "      <th>1</th>\n",
       "      <td>Nissan</td>\n",
       "      <td>20447.15400</td>\n",
       "      <td>crossover</td>\n",
       "      <td>0</td>\n",
       "      <td>1.2</td>\n",
       "      <td>Petrol</td>\n",
       "      <td>yes</td>\n",
       "      <td>2016</td>\n",
       "      <td>Qashqai</td>\n",
       "      <td>front</td>\n",
       "    </tr>\n",
       "    <tr>\n",
       "      <th>2</th>\n",
       "      <td>Peugeot</td>\n",
       "      <td>19080.75000</td>\n",
       "      <td>crossover</td>\n",
       "      <td>0</td>\n",
       "      <td>1.2</td>\n",
       "      <td>Petrol</td>\n",
       "      <td>yes</td>\n",
       "      <td>2016</td>\n",
       "      <td>2008</td>\n",
       "      <td>front</td>\n",
       "    </tr>\n",
       "    <tr>\n",
       "      <th>3</th>\n",
       "      <td>Citroen</td>\n",
       "      <td>24050.63700</td>\n",
       "      <td>hatch</td>\n",
       "      <td>0</td>\n",
       "      <td>1.2</td>\n",
       "      <td>Diesel</td>\n",
       "      <td>yes</td>\n",
       "      <td>2016</td>\n",
       "      <td>C4</td>\n",
       "      <td>front</td>\n",
       "    </tr>\n",
       "    <tr>\n",
       "      <th>4</th>\n",
       "      <td>Renault</td>\n",
       "      <td>17639.46795</td>\n",
       "      <td>crossover</td>\n",
       "      <td>0</td>\n",
       "      <td>1.2</td>\n",
       "      <td>Petrol</td>\n",
       "      <td>yes</td>\n",
       "      <td>2016</td>\n",
       "      <td>Captur</td>\n",
       "      <td>front</td>\n",
       "    </tr>\n",
       "  </tbody>\n",
       "</table>\n",
       "</div>"
      ],
      "text/plain": [
       "       car        price       body  mileage  engV engType registration  year  \\\n",
       "0    Smart  21091.34235      hatch        0   0.9  Petrol          yes  2016   \n",
       "1   Nissan  20447.15400  crossover        0   1.2  Petrol          yes  2016   \n",
       "2  Peugeot  19080.75000  crossover        0   1.2  Petrol          yes  2016   \n",
       "3  Citroen  24050.63700      hatch        0   1.2  Diesel          yes  2016   \n",
       "4  Renault  17639.46795  crossover        0   1.2  Petrol          yes  2016   \n",
       "\n",
       "     model  drive  \n",
       "0  Forfour   rear  \n",
       "1  Qashqai  front  \n",
       "2     2008  front  \n",
       "3       C4  front  \n",
       "4   Captur  front  "
      ]
     },
     "execution_count": 64,
     "metadata": {},
     "output_type": "execute_result"
    }
   ],
   "source": [
    "df_cars = pd.read_excel('CarSales.xlsx')\n",
    "df_cars.head()\n"
   ]
  },
  {
   "cell_type": "markdown",
   "metadata": {},
   "source": [
    "<a id=section301></a>\n",
    "### 3.1 Description of the Dataset\n",
    "\n",
    "Bsed on the data set columns, below is the decription for each column\n",
    "\n",
    "\n",
    "| Column Name | Description |\n",
    "| ------ | ------ |\n",
    "| Car | Manufacturer brand.  |\n",
    "| Price | Seller's price in adverstisement(in USD)|\n",
    "| body | car body type. |\n",
    "| mileage | as mentioned in advertisement. |\n",
    "| engV | Rounded Engine volume. |\n",
    "| engType |Type of fuel(\"Other\" should be treated as NA) |\n",
    "| registration |Whether car registered in Ukraine or not |\n",
    "| year |year od production |\n",
    "| model |Specific model name |\n",
    "| drive |drive type|\n",
    "\n"
   ]
  },
  {
   "cell_type": "markdown",
   "metadata": {},
   "source": [
    "### Intitail screening of the  dataset\n",
    "\n",
    "Let us try to understand some intital observation on this data based on panda basic panda functions.\n",
    "\n",
    "\n",
    "\n"
   ]
  },
  {
   "cell_type": "code",
   "execution_count": 4,
   "metadata": {},
   "outputs": [
    {
     "data": {
      "text/plain": [
       "Index(['car', 'price', 'body', 'mileage', 'engV', 'engType', 'registration',\n",
       "       'year', 'model', 'drive'],\n",
       "      dtype='object')"
      ]
     },
     "execution_count": 4,
     "metadata": {},
     "output_type": "execute_result"
    }
   ],
   "source": [
    "df_cars.columns\n",
    "#df_cars[[df_cars[\"engV\"].astype(float) <1 ].count()\n",
    "#df_cars[df_cars[\"engV\"].astype(float) <1  | (df_cars[\"engV\"].astype(float) >10 )].count()"
   ]
  },
  {
   "cell_type": "code",
   "execution_count": 5,
   "metadata": {},
   "outputs": [],
   "source": [
    " #df_cars.columns=map(str.lower, df_cars.columns)\n"
   ]
  },
  {
   "cell_type": "code",
   "execution_count": 6,
   "metadata": {},
   "outputs": [
    {
     "data": {
      "text/plain": [
       "car             object \n",
       "price           float64\n",
       "body            object \n",
       "mileage         int64  \n",
       "engV            float64\n",
       "engType         object \n",
       "registration    object \n",
       "year            int64  \n",
       "model           object \n",
       "drive           object \n",
       "dtype: object"
      ]
     },
     "execution_count": 6,
     "metadata": {},
     "output_type": "execute_result"
    }
   ],
   "source": [
    "#type of each columns\n",
    "df_cars.dtypes"
   ]
  },
  {
   "cell_type": "markdown",
   "metadata": {},
   "source": [
    "####  Change  car column to brand which is moer relalistic . \n"
   ]
  },
  {
   "cell_type": "code",
   "execution_count": 7,
   "metadata": {},
   "outputs": [],
   "source": [
    "df_cars.rename(columns={'car':\"brand\"},inplace=True)"
   ]
  },
  {
   "cell_type": "code",
   "execution_count": 8,
   "metadata": {},
   "outputs": [
    {
     "data": {
      "text/html": [
       "<div>\n",
       "<style scoped>\n",
       "    .dataframe tbody tr th:only-of-type {\n",
       "        vertical-align: middle;\n",
       "    }\n",
       "\n",
       "    .dataframe tbody tr th {\n",
       "        vertical-align: top;\n",
       "    }\n",
       "\n",
       "    .dataframe thead th {\n",
       "        text-align: right;\n",
       "    }\n",
       "</style>\n",
       "<table border=\"1\" class=\"dataframe\">\n",
       "  <thead>\n",
       "    <tr style=\"text-align: right;\">\n",
       "      <th></th>\n",
       "      <th>brand</th>\n",
       "      <th>price</th>\n",
       "      <th>body</th>\n",
       "      <th>mileage</th>\n",
       "      <th>engV</th>\n",
       "      <th>engType</th>\n",
       "      <th>registration</th>\n",
       "      <th>year</th>\n",
       "      <th>model</th>\n",
       "      <th>drive</th>\n",
       "    </tr>\n",
       "  </thead>\n",
       "  <tbody>\n",
       "    <tr>\n",
       "      <th>0</th>\n",
       "      <td>Smart</td>\n",
       "      <td>21091.34235</td>\n",
       "      <td>hatch</td>\n",
       "      <td>0</td>\n",
       "      <td>0.9</td>\n",
       "      <td>Petrol</td>\n",
       "      <td>yes</td>\n",
       "      <td>2016</td>\n",
       "      <td>Forfour</td>\n",
       "      <td>rear</td>\n",
       "    </tr>\n",
       "    <tr>\n",
       "      <th>1</th>\n",
       "      <td>Nissan</td>\n",
       "      <td>20447.15400</td>\n",
       "      <td>crossover</td>\n",
       "      <td>0</td>\n",
       "      <td>1.2</td>\n",
       "      <td>Petrol</td>\n",
       "      <td>yes</td>\n",
       "      <td>2016</td>\n",
       "      <td>Qashqai</td>\n",
       "      <td>front</td>\n",
       "    </tr>\n",
       "    <tr>\n",
       "      <th>2</th>\n",
       "      <td>Peugeot</td>\n",
       "      <td>19080.75000</td>\n",
       "      <td>crossover</td>\n",
       "      <td>0</td>\n",
       "      <td>1.2</td>\n",
       "      <td>Petrol</td>\n",
       "      <td>yes</td>\n",
       "      <td>2016</td>\n",
       "      <td>2008</td>\n",
       "      <td>front</td>\n",
       "    </tr>\n",
       "    <tr>\n",
       "      <th>3</th>\n",
       "      <td>Citroen</td>\n",
       "      <td>24050.63700</td>\n",
       "      <td>hatch</td>\n",
       "      <td>0</td>\n",
       "      <td>1.2</td>\n",
       "      <td>Diesel</td>\n",
       "      <td>yes</td>\n",
       "      <td>2016</td>\n",
       "      <td>C4</td>\n",
       "      <td>front</td>\n",
       "    </tr>\n",
       "    <tr>\n",
       "      <th>4</th>\n",
       "      <td>Renault</td>\n",
       "      <td>17639.46795</td>\n",
       "      <td>crossover</td>\n",
       "      <td>0</td>\n",
       "      <td>1.2</td>\n",
       "      <td>Petrol</td>\n",
       "      <td>yes</td>\n",
       "      <td>2016</td>\n",
       "      <td>Captur</td>\n",
       "      <td>front</td>\n",
       "    </tr>\n",
       "    <tr>\n",
       "      <th>...</th>\n",
       "      <td>...</td>\n",
       "      <td>...</td>\n",
       "      <td>...</td>\n",
       "      <td>...</td>\n",
       "      <td>...</td>\n",
       "      <td>...</td>\n",
       "      <td>...</td>\n",
       "      <td>...</td>\n",
       "      <td>...</td>\n",
       "      <td>...</td>\n",
       "    </tr>\n",
       "    <tr>\n",
       "      <th>9571</th>\n",
       "      <td>Toyota</td>\n",
       "      <td>36000.00000</td>\n",
       "      <td>crossover</td>\n",
       "      <td>940</td>\n",
       "      <td>NaN</td>\n",
       "      <td>Other</td>\n",
       "      <td>yes</td>\n",
       "      <td>2009</td>\n",
       "      <td>Land Cruiser 200</td>\n",
       "      <td>NaN</td>\n",
       "    </tr>\n",
       "    <tr>\n",
       "      <th>9572</th>\n",
       "      <td>Mercedes-Benz</td>\n",
       "      <td>68700.00000</td>\n",
       "      <td>crossover</td>\n",
       "      <td>980</td>\n",
       "      <td>3.0</td>\n",
       "      <td>Diesel</td>\n",
       "      <td>yes</td>\n",
       "      <td>2013</td>\n",
       "      <td>GL 350</td>\n",
       "      <td>full</td>\n",
       "    </tr>\n",
       "    <tr>\n",
       "      <th>9573</th>\n",
       "      <td>VAZ</td>\n",
       "      <td>750.00000</td>\n",
       "      <td>sedan</td>\n",
       "      <td>999</td>\n",
       "      <td>1.3</td>\n",
       "      <td>Petrol</td>\n",
       "      <td>yes</td>\n",
       "      <td>1984</td>\n",
       "      <td>2106</td>\n",
       "      <td>rear</td>\n",
       "    </tr>\n",
       "    <tr>\n",
       "      <th>9574</th>\n",
       "      <td>Fiat</td>\n",
       "      <td>4000.00000</td>\n",
       "      <td>van</td>\n",
       "      <td>999</td>\n",
       "      <td>2.5</td>\n",
       "      <td>Diesel</td>\n",
       "      <td>yes</td>\n",
       "      <td>1998</td>\n",
       "      <td>Ducato ����.</td>\n",
       "      <td>front</td>\n",
       "    </tr>\n",
       "    <tr>\n",
       "      <th>9575</th>\n",
       "      <td>GAZ</td>\n",
       "      <td>0.00000</td>\n",
       "      <td>crossover</td>\n",
       "      <td>1</td>\n",
       "      <td>NaN</td>\n",
       "      <td>Petrol</td>\n",
       "      <td>yes</td>\n",
       "      <td>1963</td>\n",
       "      <td>69</td>\n",
       "      <td>full</td>\n",
       "    </tr>\n",
       "  </tbody>\n",
       "</table>\n",
       "<p>9576 rows × 10 columns</p>\n",
       "</div>"
      ],
      "text/plain": [
       "              brand        price       body  mileage  engV engType  \\\n",
       "0     Smart          21091.34235  hatch      0        0.9   Petrol   \n",
       "1     Nissan         20447.15400  crossover  0        1.2   Petrol   \n",
       "2     Peugeot        19080.75000  crossover  0        1.2   Petrol   \n",
       "3     Citroen        24050.63700  hatch      0        1.2   Diesel   \n",
       "4     Renault        17639.46795  crossover  0        1.2   Petrol   \n",
       "...       ...                ...        ... ..        ...      ...   \n",
       "9571  Toyota         36000.00000  crossover  940     NaN    Other    \n",
       "9572  Mercedes-Benz  68700.00000  crossover  980      3.0   Diesel   \n",
       "9573  VAZ            750.00000    sedan      999      1.3   Petrol   \n",
       "9574  Fiat           4000.00000   van        999      2.5   Diesel   \n",
       "9575  GAZ            0.00000      crossover  1       NaN    Petrol   \n",
       "\n",
       "     registration  year             model  drive  \n",
       "0     yes          2016  Forfour           rear   \n",
       "1     yes          2016  Qashqai           front  \n",
       "2     yes          2016  2008              front  \n",
       "3     yes          2016  C4                front  \n",
       "4     yes          2016  Captur            front  \n",
       "...   ...           ...     ...              ...  \n",
       "9571  yes          2009  Land Cruiser 200  NaN    \n",
       "9572  yes          2013  GL 350            full   \n",
       "9573  yes          1984  2106              rear   \n",
       "9574  yes          1998  Ducato ����.      front  \n",
       "9575  yes          1963  69                full   \n",
       "\n",
       "[9576 rows x 10 columns]"
      ]
     },
     "execution_count": 8,
     "metadata": {},
     "output_type": "execute_result"
    }
   ],
   "source": [
    "df_cars"
   ]
  },
  {
   "cell_type": "code",
   "execution_count": 9,
   "metadata": {},
   "outputs": [
    {
     "name": "stdout",
     "output_type": "stream",
     "text": [
      "total rows:  9576\n",
      "dupluate rows :  113\n"
     ]
    }
   ],
   "source": [
    "#find is there any duplicate rows\n",
    "print(\"total rows: \",df_cars.shape[0] )\n",
    "print(\"dupluate rows : \" , df_cars[df_cars.duplicated()][\"brand\"].count())"
   ]
  },
  {
   "cell_type": "markdown",
   "metadata": {},
   "source": [
    "#### Out of 9576 columns 113 are duplictes. We have to drop the duplicates now\n"
   ]
  },
  {
   "cell_type": "code",
   "execution_count": 10,
   "metadata": {},
   "outputs": [
    {
     "data": {
      "text/plain": [
       "(9463, 10)"
      ]
     },
     "execution_count": 10,
     "metadata": {},
     "output_type": "execute_result"
    }
   ],
   "source": [
    "# remove only the duplicates by keeping first occurence\n",
    "df_cars.drop_duplicates(keep='first',inplace=True)\n",
    "df_cars.shape\n"
   ]
  },
  {
   "cell_type": "code",
   "execution_count": 11,
   "metadata": {},
   "outputs": [
    {
     "data": {
      "text/html": [
       "<div>\n",
       "<style scoped>\n",
       "    .dataframe tbody tr th:only-of-type {\n",
       "        vertical-align: middle;\n",
       "    }\n",
       "\n",
       "    .dataframe tbody tr th {\n",
       "        vertical-align: top;\n",
       "    }\n",
       "\n",
       "    .dataframe thead th {\n",
       "        text-align: right;\n",
       "    }\n",
       "</style>\n",
       "<table border=\"1\" class=\"dataframe\">\n",
       "  <thead>\n",
       "    <tr style=\"text-align: right;\">\n",
       "      <th></th>\n",
       "      <th>price</th>\n",
       "      <th>mileage</th>\n",
       "      <th>engV</th>\n",
       "      <th>year</th>\n",
       "    </tr>\n",
       "  </thead>\n",
       "  <tbody>\n",
       "    <tr>\n",
       "      <th>count</th>\n",
       "      <td>9463.000000</td>\n",
       "      <td>9463.000000</td>\n",
       "      <td>9029.000000</td>\n",
       "      <td>9463.000000</td>\n",
       "    </tr>\n",
       "    <tr>\n",
       "      <th>mean</th>\n",
       "      <td>15303.858896</td>\n",
       "      <td>139.924654</td>\n",
       "      <td>2.641444</td>\n",
       "      <td>2006.525837</td>\n",
       "    </tr>\n",
       "    <tr>\n",
       "      <th>std</th>\n",
       "      <td>23057.384098</td>\n",
       "      <td>98.466036</td>\n",
       "      <td>5.963016</td>\n",
       "      <td>7.062584</td>\n",
       "    </tr>\n",
       "    <tr>\n",
       "      <th>min</th>\n",
       "      <td>0.000000</td>\n",
       "      <td>0.000000</td>\n",
       "      <td>0.100000</td>\n",
       "      <td>1953.000000</td>\n",
       "    </tr>\n",
       "    <tr>\n",
       "      <th>25%</th>\n",
       "      <td>4999.000000</td>\n",
       "      <td>70.000000</td>\n",
       "      <td>1.600000</td>\n",
       "      <td>2004.000000</td>\n",
       "    </tr>\n",
       "    <tr>\n",
       "      <th>50%</th>\n",
       "      <td>9200.000000</td>\n",
       "      <td>129.000000</td>\n",
       "      <td>2.000000</td>\n",
       "      <td>2008.000000</td>\n",
       "    </tr>\n",
       "    <tr>\n",
       "      <th>75%</th>\n",
       "      <td>16500.000000</td>\n",
       "      <td>195.000000</td>\n",
       "      <td>2.500000</td>\n",
       "      <td>2012.000000</td>\n",
       "    </tr>\n",
       "    <tr>\n",
       "      <th>max</th>\n",
       "      <td>547800.000000</td>\n",
       "      <td>999.000000</td>\n",
       "      <td>99.990000</td>\n",
       "      <td>2016.000000</td>\n",
       "    </tr>\n",
       "  </tbody>\n",
       "</table>\n",
       "</div>"
      ],
      "text/plain": [
       "               price      mileage         engV         year\n",
       "count  9463.000000    9463.000000  9029.000000  9463.000000\n",
       "mean   15303.858896   139.924654   2.641444     2006.525837\n",
       "std    23057.384098   98.466036    5.963016     7.062584   \n",
       "min    0.000000       0.000000     0.100000     1953.000000\n",
       "25%    4999.000000    70.000000    1.600000     2004.000000\n",
       "50%    9200.000000    129.000000   2.000000     2008.000000\n",
       "75%    16500.000000   195.000000   2.500000     2012.000000\n",
       "max    547800.000000  999.000000   99.990000    2016.000000"
      ]
     },
     "execution_count": 11,
     "metadata": {},
     "output_type": "execute_result"
    }
   ],
   "source": [
    "df_cars.describe()\n",
    "#df_cars"
   ]
  },
  {
   "cell_type": "code",
   "execution_count": 12,
   "metadata": {},
   "outputs": [
    {
     "name": "stdout",
     "output_type": "stream",
     "text": [
      "<class 'pandas.core.frame.DataFrame'>\n",
      "Int64Index: 9463 entries, 0 to 9575\n",
      "Data columns (total 10 columns):\n",
      " #   Column        Non-Null Count  Dtype  \n",
      "---  ------        --------------  -----  \n",
      " 0   brand         9463 non-null   object \n",
      " 1   price         9463 non-null   float64\n",
      " 2   body          9463 non-null   object \n",
      " 3   mileage       9463 non-null   int64  \n",
      " 4   engV          9029 non-null   float64\n",
      " 5   engType       9463 non-null   object \n",
      " 6   registration  9463 non-null   object \n",
      " 7   year          9463 non-null   int64  \n",
      " 8   model         9463 non-null   object \n",
      " 9   drive         8953 non-null   object \n",
      "dtypes: float64(2), int64(2), object(6)\n",
      "memory usage: 813.2+ KB\n"
     ]
    }
   ],
   "source": [
    "\n",
    "df_cars.info()"
   ]
  },
  {
   "cell_type": "markdown",
   "metadata": {},
   "source": [
    "<a id=section302></a>\n",
    "### 3.2 Pandas Profiling before Data Preprocessing\n",
    " we will perform Pandas Profiling before preprocessing our dataset, so we will name the output file as profiling_before_preprocessing_carsales.html.\n",
    " "
   ]
  },
  {
   "cell_type": "code",
   "execution_count": 63,
   "metadata": {},
   "outputs": [
    {
     "name": "stdout",
     "output_type": "stream",
     "text": [
      "pip 20.0.2 from C:\\Users\\asivaraman\\Anaconda3\\lib\\site-packages\\pip (python 3.7)\n",
      "\n"
     ]
    },
    {
     "name": "stderr",
     "output_type": "stream",
     "text": [
      "ERROR: Could not install packages due to an EnvironmentError: Could not find a suitable TLS CA certificate bundle, invalid path: C:/Users/asivaraman/Anaconda3//lib/site-packages/cacert.pem\n",
      "\n"
     ]
    }
   ],
   "source": [
    "\n",
    "import ssl\n",
    "orig_sslsocket_init = ssl.SSLSocket.__init__\n",
    "ssl.SSLSocket.__init__ = lambda *args, cert_reqs=ssl.CERT_NONE, **kwargs: orig_sslsocket_init(*args, cert_reqs=ssl.CERT_NONE, **kwargs)\n",
    "#!pip install pandas_profiling==1.5.6\n",
    "!pip --version\n",
    "!pip install --upgrade pip\n",
    "#easy_install pip==1.2.1  \n",
    "#!easy_install pip==1.5.6"
   ]
  },
  {
   "cell_type": "code",
   "execution_count": 5,
   "metadata": {},
   "outputs": [
    {
     "ename": "ModuleNotFoundError",
     "evalue": "No module named 'pandas_profiling'",
     "output_type": "error",
     "traceback": [
      "\u001b[1;31m---------------------------------------------------------------------------\u001b[0m",
      "\u001b[1;31mModuleNotFoundError\u001b[0m                       Traceback (most recent call last)",
      "\u001b[1;32m<ipython-input-5-6210cabcbe03>\u001b[0m in \u001b[0;36m<module>\u001b[1;34m\u001b[0m\n\u001b[1;32m----> 1\u001b[1;33m \u001b[1;32mimport\u001b[0m \u001b[0mpandas_profiling\u001b[0m\u001b[1;33m\u001b[0m\u001b[1;33m\u001b[0m\u001b[0m\n\u001b[0m",
      "\u001b[1;31mModuleNotFoundError\u001b[0m: No module named 'pandas_profiling'"
     ]
    }
   ],
   "source": [
    "import pandas_profiling "
   ]
  },
  {
   "cell_type": "code",
   "execution_count": null,
   "metadata": {},
   "outputs": [],
   "source": [
    "profile = df_cars.profile_report(title='Pandas Profiling before Data Preprocessing')\n",
    "profile.to_file(output_file=\"profiling_before_preprocessing_carsales1.html\")"
   ]
  },
  {
   "cell_type": "markdown",
   "metadata": {},
   "source": [
    "###### Observations from Pandas Profiling before Data Processing\n",
    "Dataset info\n",
    "\n",
    "- Number of variables\t11\n",
    "- Number of observations\t9463\n",
    "- Missing cells\t944 (0.9%)\n",
    "- Duplicate rows\t0 (0.0%)\n",
    "- Total size in memory\t813.4 KiB\n",
    "- Average record size in memory\t88.0 B\n",
    "- Variables types\n",
    "\n",
    "- Numeric\t5\n",
    "- Categorical\t5\n",
    "- Boolean\t1\n",
    "\n",
    "\n",
    "\n",
    "- drive has 510 (5.4%) missing values\tMissing : we have to work on it \n",
    "-  engv has 434 (4.6%) missing values\talso outliers are ther 20,99 etc is not an expected engine capacity.\n",
    "- mileage has 310 (3.3%) zeros\tZeros : Let us reverify on this .\n",
    "- model has a high cardinality: 863 distinct values\tWarning:   A category with these many distinct values we can delete it\n",
    "- price has 240 (2.5%) zeros : Zero procing is not acceptible . we have to work on this.\n"
   ]
  },
  {
   "cell_type": "markdown",
   "metadata": {},
   "source": [
    "<a id=section4></a>\n",
    "### 4. Data Preprocessing"
   ]
  },
  {
   "cell_type": "markdown",
   "metadata": {},
   "source": [
    "<a id=section401></a>\n",
    "### 4.1 Data Normalization"
   ]
  },
  {
   "cell_type": "markdown",
   "metadata": {},
   "source": [
    "####  normalize drive column . "
   ]
  },
  {
   "cell_type": "code",
   "execution_count": null,
   "metadata": {},
   "outputs": [],
   "source": [
    "df_cars.isnull().sum()\n",
    "drive_mode_val = df_cars[\"drive\"].mode()\n",
    "print(drive_mode_val,)\n",
    "# drive got 510 nan values. let us replace it with mode of  drive\n",
    "\n",
    "#df_cars.describe(include='all')\n",
    "df_cars[\"drive\"].replace(np.NAN,drive_mode_val,inplace=True)\n",
    "#df_cars[\"drive\"].mode()\n"
   ]
  },
  {
   "cell_type": "code",
   "execution_count": null,
   "metadata": {},
   "outputs": [],
   "source": [
    "# check again there is no NaN for drive\n",
    "df_cars.isnull().sum()"
   ]
  },
  {
   "cell_type": "code",
   "execution_count": null,
   "metadata": {},
   "outputs": [],
   "source": [
    "df_cars[\"drive\"]"
   ]
  },
  {
   "cell_type": "markdown",
   "metadata": {},
   "source": [
    "####  normalize engv column\n",
    "\n",
    "Some of the engv values like 20,22...99 and .01,.6 etc is something not real . So let us apply some logic to update these values first to NaN and see how it behaves"
   ]
  },
  {
   "cell_type": "code",
   "execution_count": null,
   "metadata": {},
   "outputs": [],
   "source": [
    "def clean_engv(engv):\n",
    "    if(engv>=1 or engv<=8 ):\n",
    "        return  engv\n",
    "    else:\n",
    "        return np.nan\n",
    "df_cars[\"engv_clean\"] =df_cars[\"engv\"].apply(clean_engv)\n",
    "df_cars.head()\n",
    "    #print(df_cars[\"engv_clean\"] .min())"
   ]
  },
  {
   "cell_type": "code",
   "execution_count": null,
   "metadata": {},
   "outputs": [],
   "source": [
    "#after applying the clean engv for outliers let us see how many Nan now\n",
    "df_cars[\"engv_clean\"].isnull().sum()"
   ]
  },
  {
   "cell_type": "code",
   "execution_count": null,
   "metadata": {},
   "outputs": [],
   "source": [
    "#instead of removing this 434  values let us replace them with median of engv_clean\n",
    "df_cars.isnull().sum()\n",
    "engv_clean_median = df_cars[\"engv_clean\"].median()\n",
    "print(engv_clean_median)\n",
    "\n",
    "df_cars[\"engv_clean\"].replace(np.NAN,engv_clean_median,inplace=True)\n",
    "\n",
    "\n"
   ]
  },
  {
   "cell_type": "code",
   "execution_count": null,
   "metadata": {},
   "outputs": [],
   "source": [
    "#vrify there is no more nan values for eng_clean\n",
    "df_cars[\"engv_clean\"].isnull().sum()"
   ]
  },
  {
   "cell_type": "code",
   "execution_count": null,
   "metadata": {},
   "outputs": [],
   "source": [
    "# we can drop engv as we have a cleaned column engv_clean now\n",
    "#df_cars.drop(['engv'],axis=1,inplace=True)\n",
    "#df_cars"
   ]
  },
  {
   "cell_type": "markdown",
   "metadata": {},
   "source": [
    "# Observation on mileage colum\n",
    "#it ranges fro m 0-999 . 999 0r 0 is not an oulier , because the mileage can  be 0 for unused cars and can be 999 for used cars\n"
   ]
  },
  {
   "cell_type": "markdown",
   "metadata": {},
   "source": [
    "### delele model column due to high cardinality for categorical data\n"
   ]
  },
  {
   "cell_type": "code",
   "execution_count": null,
   "metadata": {},
   "outputs": [],
   "source": [
    "df_cars.drop(['model'],axis=1,inplace=True)\n",
    "df_cars"
   ]
  },
  {
   "cell_type": "code",
   "execution_count": null,
   "metadata": {},
   "outputs": [],
   "source": [
    "df_cars"
   ]
  },
  {
   "cell_type": "code",
   "execution_count": null,
   "metadata": {},
   "outputs": [],
   "source": [
    "def get_median_mileage(x):\n",
    "    brand = x.name\n",
    "    print(x.name,x.count(),x.median()) \n",
    "    if x.count() > 0:\n",
    "        return x.median() # Return median for a brand/model if the median exists. \n",
    "engv_median = df_cars.groupby(['brandname'])['engv'].apply(get_median_mileage).reset_index()\n",
    "#print(mileage_median)\n",
    "engv_median\n",
    "\n",
    "#df_cars.groupby(['brandname'])['engv'].median()"
   ]
  },
  {
   "cell_type": "code",
   "execution_count": null,
   "metadata": {},
   "outputs": [],
   "source": [
    "df_cars[\"engv\"].isnull().sum()"
   ]
  },
  {
   "cell_type": "code",
   "execution_count": 75,
   "metadata": {},
   "outputs": [
    {
     "data": {
      "text/plain": [
       "front    436\n",
       "full      16\n",
       "rear       2\n",
       "Name: drive, dtype: int64"
      ]
     },
     "execution_count": 75,
     "metadata": {},
     "output_type": "execute_result"
    }
   ],
   "source": [
    "df_cars['drive'][df_cars['car'] == 'Renault'].value_counts()"
   ]
  },
  {
   "cell_type": "code",
   "execution_count": null,
   "metadata": {},
   "outputs": [],
   "source": []
  }
 ],
 "metadata": {
  "kernelspec": {
   "display_name": "Python 3",
   "language": "python",
   "name": "python3"
  },
  "language_info": {
   "codemirror_mode": {
    "name": "ipython",
    "version": 3
   },
   "file_extension": ".py",
   "mimetype": "text/x-python",
   "name": "python",
   "nbconvert_exporter": "python",
   "pygments_lexer": "ipython3",
   "version": "3.7.6"
  }
 },
 "nbformat": 4,
 "nbformat_minor": 4
}
